{
 "cells": [
  {
   "cell_type": "code",
   "execution_count": null,
   "metadata": {},
   "outputs": [],
   "source": [
    "Creating a two-layer neural network using Pytorch\n",
    "- Input layer 1*3\n",
    "- Linear Layer - in_features = 3, out_features = 2\n",
    "- Output 1*2"
   ]
  },
  {
   "cell_type": "code",
   "execution_count": 6,
   "metadata": {},
   "outputs": [
    {
     "name": "stdout",
     "output_type": "stream",
     "text": [
      "tensor([-0.5337,  0.0560], grad_fn=<ViewBackward0>)\n"
     ]
    }
   ],
   "source": [
    "import torch\n",
    "import torch.nn as nn\n",
    "#Input layer\n",
    "input_layer = torch.tensor([0.414, 0.173, 0.223])\n",
    "\n",
    "#Linear layer -> takes the first input layer values and produces a linear function\n",
    "linear_layer = nn.Linear(in_features = 3, out_features = 2)\n",
    "output = linear_layer(input_layer) #output = W0 @ input + b0 -> randomly assigned weights and biases\n",
    "print(output)"
   ]
  }
 ],
 "metadata": {
  "kernelspec": {
   "display_name": "Python 3",
   "language": "python",
   "name": "python3"
  },
  "language_info": {
   "codemirror_mode": {
    "name": "ipython",
    "version": 3
   },
   "file_extension": ".py",
   "mimetype": "text/x-python",
   "name": "python",
   "nbconvert_exporter": "python",
   "pygments_lexer": "ipython3",
   "version": "3.9.6"
  }
 },
 "nbformat": 4,
 "nbformat_minor": 2
}
