{
 "cells": [
  {
   "cell_type": "code",
   "execution_count": null,
   "metadata": {},
   "outputs": [],
   "source": [
    "Creating a two-layer neural network using Pytorch\n",
    "- Input layer 1*3\n",
    "- Linear Layer - in_features = 3, out_features = 2\n",
    "- Output 1*2"
   ]
  },
  {
   "cell_type": "code",
   "execution_count": 6,
   "metadata": {},
   "outputs": [
    {
     "name": "stdout",
     "output_type": "stream",
     "text": [
      "tensor([-0.5337,  0.0560], grad_fn=<ViewBackward0>)\n"
     ]
    }
   ],
   "source": [
    "import torch\n",
    "import torch.nn as nn\n",
    "#Input layer\n",
    "input_layer = torch.tensor([0.414, 0.173, 0.223])\n",
    "\n",
    "#Linear layer -> takes the first input layer values and produces a linear function\n",
    "linear_layer = nn.Linear(in_features = 3, out_features = 2)\n",
    "output = linear_layer(input_layer) #output = W0 @ input + b0 -> randomly assigned weights and biases\n",
    "print(output)"
   ]
  },
  {
   "cell_type": "markdown",
   "metadata": {},
   "source": [
    "More linear layers"
   ]
  },
  {
   "cell_type": "code",
   "execution_count": 7,
   "metadata": {},
   "outputs": [],
   "source": [
    "model = nn.Sequential(\n",
    "    nn.Linear(3,6),\n",
    "    nn.Linear(6,8),\n",
    "    nn.Linear(8,2)\n",
    ")"
   ]
  },
  {
   "cell_type": "code",
   "execution_count": 8,
   "metadata": {},
   "outputs": [],
   "source": [
    "input_tensor = torch.rand(1,3)"
   ]
  },
  {
   "cell_type": "code",
   "execution_count": 9,
   "metadata": {},
   "outputs": [
    {
     "data": {
      "text/plain": [
       "tensor([[0.0272, 0.4170]], grad_fn=<AddmmBackward0>)"
      ]
     },
     "execution_count": 9,
     "metadata": {},
     "output_type": "execute_result"
    }
   ],
   "source": [
    "output_tensor = model(input_tensor)\n",
    "output_tensor"
   ]
  },
  {
   "cell_type": "markdown",
   "metadata": {},
   "source": [
    "Non-Linear Layers using Activation Function for complex relationships"
   ]
  },
  {
   "cell_type": "code",
   "execution_count": 11,
   "metadata": {},
   "outputs": [],
   "source": [
    "#Sigmoid function for binary classification tasks, used as the last layer\n",
    "import torch\n",
    "import torch.nn as nn\n",
    "\n",
    "input_tensor = torch.tensor([[9.0]])\n",
    "sigmoid = nn.Sigmoid()\n",
    "output = sigmoid(input_tensor)"
   ]
  },
  {
   "cell_type": "code",
   "execution_count": 12,
   "metadata": {},
   "outputs": [
    {
     "data": {
      "text/plain": [
       "tensor([[0.9999]])"
      ]
     },
     "execution_count": 12,
     "metadata": {},
     "output_type": "execute_result"
    }
   ],
   "source": [
    "output"
   ]
  },
  {
   "cell_type": "code",
   "execution_count": 13,
   "metadata": {},
   "outputs": [
    {
     "data": {
      "text/plain": [
       "tensor([[0.3006, 0.3322, 0.3672]])"
      ]
     },
     "execution_count": 13,
     "metadata": {},
     "output_type": "execute_result"
    }
   ],
   "source": [
    "#Softmax for multiclass classification and outputs a probability distribution\n",
    "\n",
    "input_tensor = torch.tensor([[0.6, 0.7, 0.8]])\n",
    "probabilities = nn.Softmax(dim = -1) #Applied along last dimension\n",
    "output_tensor = probabilities(input_tensor)\n",
    "\n",
    "output_tensor"
   ]
  },
  {
   "cell_type": "code",
   "execution_count": 16,
   "metadata": {},
   "outputs": [
    {
     "data": {
      "text/plain": [
       "tensor([[0.3146, 0.4776, 0.2078]], grad_fn=<SoftmaxBackward0>)"
      ]
     },
     "execution_count": 16,
     "metadata": {},
     "output_type": "execute_result"
    }
   ],
   "source": [
    "#Create a neural network and get the result. Just forward pass, i.e no backpropagation to update the weights and biases\n",
    "input_tensor = torch.tensor([[0.6, 0.7, 0.8, 0.9]])\n",
    "\n",
    "model = nn.Sequential(\n",
    "    nn.Linear(4,6), \n",
    "    nn.Linear(6,3), \n",
    "    nn.Softmax(dim = -1))\n",
    "output_tensor = model(input_tensor)\n",
    "\n",
    "output_tensor"
   ]
  },
  {
   "cell_type": "markdown",
   "metadata": {},
   "source": [
    "Loss function"
   ]
  },
  {
   "cell_type": "code",
   "execution_count": 33,
   "metadata": {},
   "outputs": [
    {
     "name": "stdout",
     "output_type": "stream",
     "text": [
      "tensor(1.2019, dtype=torch.float64)\n"
     ]
    }
   ],
   "source": [
    "\n",
    "#1. Cross Entropy Loss function\n",
    "\n",
    "import torch.nn.functional as F\n",
    "from torch.nn import CrossEntropyLoss\n",
    "\n",
    "input = torch.tensor([[0.6, 0.7, 0.8]])\n",
    "one_hot_target = F.one_hot(torch.tensor([0]), input.shape[1]) #one hot encoding\n",
    "\n",
    "criterion = CrossEntropyLoss()\n",
    "output_tensor = criterion(input_tensor.double(), one_hot_target.double())\n",
    "\n",
    "print(output_tensor)"
   ]
  },
  {
   "cell_type": "code",
   "execution_count": 35,
   "metadata": {},
   "outputs": [
    {
     "name": "stdout",
     "output_type": "stream",
     "text": [
      "tensor(0.6333, dtype=torch.float64)\n"
     ]
    }
   ],
   "source": [
    "#2. L1 Loss\n",
    "\n",
    "import torch.nn.functional as F\n",
    "from torch.nn import L1Loss\n",
    "\n",
    "input = torch.tensor([[0.6, 0.7, 0.8]])\n",
    "one_hot_target = F.one_hot(torch.tensor([0]), input.shape[1]) #one hot encoding\n",
    "\n",
    "criterion = L1Loss()\n",
    "output_tensor = criterion(input_tensor.double(), one_hot_target.double())\n",
    "\n",
    "print(output_tensor)\n"
   ]
  },
  {
   "cell_type": "markdown",
   "metadata": {},
   "source": []
  },
  {
   "cell_type": "code",
   "execution_count": null,
   "metadata": {},
   "outputs": [],
   "source": []
  }
 ],
 "metadata": {
  "kernelspec": {
   "display_name": "Python 3",
   "language": "python",
   "name": "python3"
  },
  "language_info": {
   "codemirror_mode": {
    "name": "ipython",
    "version": 3
   },
   "file_extension": ".py",
   "mimetype": "text/x-python",
   "name": "python",
   "nbconvert_exporter": "python",
   "pygments_lexer": "ipython3",
   "version": "3.9.6"
  }
 },
 "nbformat": 4,
 "nbformat_minor": 2
}
